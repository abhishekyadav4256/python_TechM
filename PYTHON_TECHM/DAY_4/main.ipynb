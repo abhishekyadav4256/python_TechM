{
 "cells": [
  {
   "cell_type": "code",
   "execution_count": 1,
   "metadata": {},
   "outputs": [
    {
     "name": "stdout",
     "output_type": "stream",
     "text": [
      "Longest Pipeline: Model Training\n",
      "Pipelines exceeding threshold: ['Preprocessing', 'Model Training']\n"
     ]
    }
   ],
   "source": [
    "def validate_pipelines(pipelines, threshold):\n",
    "    # Find the longest pipeline\n",
    "    longest_pipeline = max(pipelines, key=lambda x: x[1])[0]\n",
    "\n",
    "    # Find pipelines exceeding the threshold\n",
    "    exceeding_pipelines = [name for name, time in pipelines if time > threshold]\n",
    "\n",
    "    return longest_pipeline, exceeding_pipelines\n",
    "\n",
    "# Example input\n",
    "pipelines = [\n",
    "    (\"Data Ingestion\", 30),\n",
    "    (\"Preprocessing\", 45),\n",
    "    (\"Model Training\", 120),\n",
    "    (\"Evaluation\", 20)\n",
    "]\n",
    "threshold = 40\n",
    "\n",
    "# Get the result\n",
    "longest, exceeding = validate_pipelines(pipelines, threshold)\n",
    "\n",
    "# Print output\n",
    "print(\"Longest Pipeline:\", longest)\n",
    "print(\"Pipelines exceeding threshold:\", exceeding)\n"
   ]
  }
 ],
 "metadata": {
  "kernelspec": {
   "display_name": "Python 3",
   "language": "python",
   "name": "python3"
  },
  "language_info": {
   "codemirror_mode": {
    "name": "ipython",
    "version": 3
   },
   "file_extension": ".py",
   "mimetype": "text/x-python",
   "name": "python",
   "nbconvert_exporter": "python",
   "pygments_lexer": "ipython3",
   "version": "3.13.1"
  }
 },
 "nbformat": 4,
 "nbformat_minor": 2
}
