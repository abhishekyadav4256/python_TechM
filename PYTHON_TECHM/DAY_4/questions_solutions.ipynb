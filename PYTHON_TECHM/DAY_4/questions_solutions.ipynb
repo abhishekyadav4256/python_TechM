{
 "cells": [
  {
   "cell_type": "markdown",
   "metadata": {},
   "source": [
    "### **1. Data Pipeline Validator**\n",
    "**Task**: Identify the longest pipeline and return pipelines taking more than a given threshold time.\n"
   ]
  },
  {
   "cell_type": "code",
   "execution_count": 1,
   "metadata": {},
   "outputs": [
    {
     "name": "stdout",
     "output_type": "stream",
     "text": [
      "Longest Pipeline: Model Training\n",
      "Pipelines exceeding threshold: ['Preprocessing', 'Model Training']\n"
     ]
    }
   ],
   "source": [
    "pipelines = [\n",
    "    (\"Data Ingestion\", 30),\n",
    "    (\"Preprocessing\", 45),\n",
    "    (\"Model Training\", 120),\n",
    "    (\"Evaluation\", 20)\n",
    "]\n",
    "threshold = 40\n",
    "\n",
    "# Finding the longest pipeline\n",
    "longest_pipeline = max(pipelines, key=lambda x: x[1])[0]\n",
    "\n",
    "# Finding pipelines exceeding the threshold\n",
    "exceeding_pipelines = [name for name, time in pipelines if time > threshold]\n",
    "\n",
    "print(\"Longest Pipeline:\", longest_pipeline)\n",
    "print(\"Pipelines exceeding threshold:\", exceeding_pipelines)"
   ]
  },
  {
   "cell_type": "markdown",
   "metadata": {},
   "source": [
    "### **2. Log File Parser**\n",
    "**Task**: Extract unique error codes from a log file.\n"
   ]
  },
  {
   "cell_type": "code",
   "execution_count": 2,
   "metadata": {},
   "outputs": [
    {
     "name": "stdout",
     "output_type": "stream",
     "text": [
      "Unique Error Codes: ['404', '500']\n"
     ]
    }
   ],
   "source": [
    "import re\n",
    "\n",
    "logs = \"\"\"ERROR 404: Not Found \n",
    "INFO: Connection established \n",
    "ERROR 500: Internal Server Error \n",
    "ERROR 404: Not Found\"\"\"\n",
    "\n",
    "error_codes = list(set(re.findall(r'ERROR (\\d+)', logs)))\n",
    "\n",
    "print(\"Unique Error Codes:\", error_codes)"
   ]
  },
  {
   "cell_type": "markdown",
   "metadata": {},
   "source": [
    "### **3. Config File Reader**\n",
    "**Task**: Parse key-value pairs from a configuration string.\n"
   ]
  },
  {
   "cell_type": "code",
   "execution_count": 3,
   "metadata": {},
   "outputs": [
    {
     "name": "stdout",
     "output_type": "stream",
     "text": [
      "[('host', '127.0.0.1'), ('port', '8080'), ('mode', 'debug')]\n"
     ]
    }
   ],
   "source": [
    "config = \"host=127.0.0.1;port=8080;mode=debug\"\n",
    "\n",
    "config_pairs = [tuple(pair.split('=')) for pair in config.split(';')]\n",
    "\n",
    "print(config_pairs)"
   ]
  },
  {
   "cell_type": "markdown",
   "metadata": {},
   "source": [
    "### **4. Social Media Data Cleaner**\n",
    "**Task**: Extract unique hashtags from a social media post.\n"
   ]
  },
  {
   "cell_type": "code",
   "execution_count": 4,
   "metadata": {},
   "outputs": [
    {
     "name": "stdout",
     "output_type": "stream",
     "text": [
      "['#Python', '#Coding', '#Learning']\n"
     ]
    }
   ],
   "source": [
    "import re\n",
    "\n",
    "post = \"Loving the new #Python course! #Coding #Python #Learning\"\n",
    "\n",
    "hashtags = list(set(re.findall(r'#\\w+', post)))\n",
    "\n",
    "print(hashtags)"
   ]
  },
  {
   "cell_type": "markdown",
   "metadata": {},
   "source": [
    "### **5. Secret Code Decoder**\n",
    "**Task**: Extract every third character from a string.\n"
   ]
  },
  {
   "cell_type": "code",
   "execution_count": 5,
   "metadata": {},
   "outputs": [
    {
     "name": "stdout",
     "output_type": "stream",
     "text": [
      "helrld\n"
     ]
    }
   ],
   "source": [
    "secret_message = \"hweollrolwd\"\n",
    "\n",
    "decoded_message = secret_message[::2]\n",
    "\n",
    "print(decoded_message)"
   ]
  },
  {
   "cell_type": "markdown",
   "metadata": {},
   "source": [
    "### **6. Inventory Tracker**\n",
    "**Task**: Find the product with the highest quantity.\n"
   ]
  },
  {
   "cell_type": "code",
   "execution_count": 6,
   "metadata": {},
   "outputs": [
    {
     "name": "stdout",
     "output_type": "stream",
     "text": [
      "Oranges\n"
     ]
    }
   ],
   "source": [
    "inventory = [\n",
    "    (\"Apples\", 50),\n",
    "    (\"Oranges\", 75),\n",
    "    (\"Bananas\", 30)\n",
    "]\n",
    "\n",
    "highest_product = max(inventory, key=lambda x: x[1])[0]\n",
    "\n",
    "print(highest_product)"
   ]
  },
  {
   "cell_type": "markdown",
   "metadata": {},
   "source": [
    "### **7. Survey Data Analyzer**\n",
    "**Task**: Extract scores from a survey string and find min/max.\n"
   ]
  },
  {
   "cell_type": "code",
   "execution_count": 7,
   "metadata": {},
   "outputs": [
    {
     "name": "stdout",
     "output_type": "stream",
     "text": [
      "Max Score: 5 Min Score: 1\n"
     ]
    }
   ],
   "source": [
    "survey_data = \"5,3,4,1,2\"\n",
    "\n",
    "scores = list(map(int, survey_data.split(',')))\n",
    "\n",
    "print(\"Max Score:\", max(scores), \"Min Score:\", min(scores))"
   ]
  },
  {
   "cell_type": "markdown",
   "metadata": {},
   "source": [
    "### **8. Customer Support Ticket System**\n",
    "**Task**: Categorize tickets based on message length.\n"
   ]
  },
  {
   "cell_type": "code",
   "execution_count": 8,
   "metadata": {},
   "outputs": [
    {
     "name": "stdout",
     "output_type": "stream",
     "text": [
      "Category: Medium\n"
     ]
    }
   ],
   "source": [
    "message = \"My account is locked, please help!\"\n",
    "\n",
    "length = len(message)\n",
    "category = \"Short\" if length < 20 else \"Medium\" if length < 50 else \"Long\"\n",
    "\n",
    "print(\"Category:\", category)"
   ]
  },
  {
   "cell_type": "markdown",
   "metadata": {},
   "source": [
    "### **9. Sensor Data Analyzer**\n",
    "**Task**: Extract the last 10 sensor readings and calculate the average.\n"
   ]
  },
  {
   "cell_type": "code",
   "execution_count": 9,
   "metadata": {},
   "outputs": [
    {
     "name": "stdout",
     "output_type": "stream",
     "text": [
      "Average: 22.6\n"
     ]
    }
   ],
   "source": [
    "sensor_readings = [12, 15, 14, 16, 20, 22, 21, 23, 25, 30, 28, 27]\n",
    "\n",
    "last_10_readings = sensor_readings[-10:]\n",
    "average = sum(last_10_readings) / len(last_10_readings)\n",
    "\n",
    "print(\"Average:\", average)"
   ]
  },
  {
   "cell_type": "markdown",
   "metadata": {},
   "source": [
    "### **10. Chat Log Analyzer**\n",
    "**Task**: Count messages per user from chat logs.\n"
   ]
  },
  {
   "cell_type": "code",
   "execution_count": 10,
   "metadata": {},
   "outputs": [
    {
     "name": "stdout",
     "output_type": "stream",
     "text": [
      "Alice: 2 messages\n",
      "Bob: 2 messages\n"
     ]
    }
   ],
   "source": [
    "from collections import Counter\n",
    "\n",
    "chat_logs = [\n",
    "    \"Alice: Hi!\",\n",
    "    \"Bob: Hello!\",\n",
    "    \"Alice: How are you?\",\n",
    "    \"Bob: I’m good, thanks!\"\n",
    "]\n",
    "\n",
    "counts = Counter(log.split(\":\")[0] for log in chat_logs)\n",
    "\n",
    "for user, count in counts.items():\n",
    "    print(f\"{user}: {count} messages\")"
   ]
  },
  {
   "cell_type": "markdown",
   "metadata": {},
   "source": [
    "### **11. Data Compressor**\n",
    "**Task**: Compress recurring substrings.\n"
   ]
  },
  {
   "cell_type": "code",
   "execution_count": 11,
   "metadata": {},
   "outputs": [
    {
     "name": "stdout",
     "output_type": "stream",
     "text": [
      "'ab' repeated 6 times\n"
     ]
    }
   ],
   "source": [
    "import re\n",
    "\n",
    "data = \"abababababab\"\n",
    "\n",
    "match = re.fullmatch(r\"(.+?)\\1*\", data)\n",
    "\n",
    "if match:\n",
    "    repeated_substring = match.group(1)\n",
    "    repetitions = len(data) // len(repeated_substring)\n",
    "    print(f\"'{repeated_substring}' repeated {repetitions} times\")"
   ]
  }
 ],
 "metadata": {
  "kernelspec": {
   "display_name": "Python 3",
   "language": "python",
   "name": "python3"
  },
  "language_info": {
   "codemirror_mode": {
    "name": "ipython",
    "version": 3
   },
   "file_extension": ".py",
   "mimetype": "text/x-python",
   "name": "python",
   "nbconvert_exporter": "python",
   "pygments_lexer": "ipython3",
   "version": "3.13.1"
  }
 },
 "nbformat": 4,
 "nbformat_minor": 2
}
