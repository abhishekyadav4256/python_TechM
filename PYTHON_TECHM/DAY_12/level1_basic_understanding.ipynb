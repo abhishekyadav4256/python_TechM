{
 "cells": [
  {
   "cell_type": "markdown",
   "id": "538a029e",
   "metadata": {},
   "source": [
    "#### Level 1 – Basic Understanding\n",
    "Focus: Syntax, simple usage, function calls, return values"
   ]
  },
  {
   "cell_type": "markdown",
   "id": "c0de1403",
   "metadata": {},
   "source": [
    "#### Q1. Create a function welcome() that prints 'Welcome to Python!' and call it three times."
   ]
  },
  {
   "cell_type": "code",
   "execution_count": null,
   "id": "8c2f51f9",
   "metadata": {},
   "outputs": [],
   "source": [
    "\n",
    "def welcome():\n",
    "    print(\"Welcome to Python!\")\n",
    "\n",
    "welcome()\n",
    "welcome()\n",
    "welcome()\n",
    "    "
   ]
  },
  {
   "cell_type": "markdown",
   "id": "71bf18e8",
   "metadata": {},
   "source": [
    "#### Q2. Write a function square(n) that takes a number n and returns its square."
   ]
  },
  {
   "cell_type": "code",
   "execution_count": null,
   "id": "2750c724",
   "metadata": {},
   "outputs": [],
   "source": [
    "\n",
    "def square(n):\n",
    "    return n * n\n",
    "\n",
    "square(5)\n",
    "    "
   ]
  },
  {
   "cell_type": "markdown",
   "id": "fdb8d61a",
   "metadata": {},
   "source": [
    "#### Q3. Write a function is_even(num) that returns True if a number is even, else False."
   ]
  },
  {
   "cell_type": "code",
   "execution_count": null,
   "id": "828231f2",
   "metadata": {},
   "outputs": [],
   "source": [
    "\n",
    "def is_even(num):\n",
    "    return num % 2 == 0\n",
    "\n",
    "is_even(4)\n",
    "    "
   ]
  },
  {
   "cell_type": "markdown",
   "id": "3d8f3ec6",
   "metadata": {},
   "source": [
    "#### Q4. Define a function full_name(first, last) that returns the full name as a string."
   ]
  },
  {
   "cell_type": "code",
   "execution_count": null,
   "id": "72ebc94b",
   "metadata": {},
   "outputs": [],
   "source": [
    "\n",
    "def full_name(first, last):\n",
    "    return first + \" \" + last\n",
    "\n",
    "full_name(\"John\", \"Doe\")\n",
    "    "
   ]
  },
  {
   "cell_type": "markdown",
   "id": "d6036ffc",
   "metadata": {},
   "source": [
    "#### Q5. Create a function circle_area(radius) that returns the area of a circle using πr². Use pi = 3.14."
   ]
  },
  {
   "cell_type": "code",
   "execution_count": null,
   "id": "fc2d2567",
   "metadata": {},
   "outputs": [],
   "source": [
    "\n",
    "def circle_area(radius):\n",
    "    pi = 3.14\n",
    "    return pi * radius * radius\n",
    "\n",
    "circle_area(5)\n",
    "    "
   ]
  }
 ],
 "metadata": {},
 "nbformat": 4,
 "nbformat_minor": 5
}
