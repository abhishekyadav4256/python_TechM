{
 "cells": [
  {
   "cell_type": "code",
   "execution_count": 3,
   "metadata": {},
   "outputs": [
    {
     "name": "stdout",
     "output_type": "stream",
     "text": [
      "1\n",
      "2\n",
      "3\n",
      "4\n",
      "5\n",
      "6\n",
      "7\n",
      "8\n",
      "9\n",
      "10\n"
     ]
    }
   ],
   "source": [
    "for i in range(1,11):\n",
    "  print(i)"
   ]
  },
  {
   "cell_type": "code",
   "execution_count": null,
   "metadata": {},
   "outputs": [
    {
     "name": "stdout",
     "output_type": "stream",
     "text": [
      "7\n"
     ]
    }
   ],
   "source": [
    "def count(s):\n",
    "  vowels=\"aeiouAEIOU\"\n",
    "  count = sum(1 for char in s if char in vowels)\n",
    "  return count\n",
    "\n",
    "text = input(\"Enter a String:\")\n",
    "print(text)\n",
    "print(count(text)) "
   ]
  },
  {
   "cell_type": "code",
   "execution_count": 9,
   "metadata": {},
   "outputs": [
    {
     "name": "stdout",
     "output_type": "stream",
     "text": [
      "338350\n"
     ]
    }
   ],
   "source": [
    "sum=0\n",
    "for i in range(1,101):\n",
    "  sum+=i**2\n",
    "\n",
    "print(sum)\n"
   ]
  },
  {
   "cell_type": "code",
   "execution_count": 13,
   "metadata": {},
   "outputs": [
    {
     "name": "stdout",
     "output_type": "stream",
     "text": [
      "1              2              3              4              5              6              7              8              9              10              \n",
      "2              4              6              8              10              12              14              16              18              20              \n",
      "3              6              9              12              15              18              21              24              27              30              \n",
      "4              8              12              16              20              24              28              32              36              40              \n",
      "5              10              15              20              25              30              35              40              45              50              \n",
      "6              12              18              24              30              36              42              48              54              60              \n",
      "7              14              21              28              35              42              49              56              63              70              \n",
      "8              16              24              32              40              48              56              64              72              80              \n",
      "9              18              27              36              45              54              63              72              81              90              \n"
     ]
    }
   ],
   "source": [
    "for i in range(1,10):\n",
    "  for j in range(1,11):\n",
    "    print(i*j,end=\"              \")\n",
    "  print()"
   ]
  },
  {
   "cell_type": "code",
   "execution_count": 16,
   "metadata": {},
   "outputs": [],
   "source": [
    "from PIL import Image, ImageOps\n",
    "\n",
    "# Open an image file\n",
    "image_path = \"1.png\"  # Replace with your image file path\n",
    "image = Image.open(image_path)\n",
    "\n",
    "# Invert colors\n",
    "inverted_image = ImageOps.invert(image.convert(\"RGB\"))\n",
    "\n",
    "# Show the inverted image\n",
    "inverted_image.show()\n",
    "\n",
    "# Save the inverted image\n",
    "inverted_image.save(\"inverted_image.jpg\")\n"
   ]
  }
 ],
 "metadata": {
  "kernelspec": {
   "display_name": "Python 3",
   "language": "python",
   "name": "python3"
  },
  "language_info": {
   "codemirror_mode": {
    "name": "ipython",
    "version": 3
   },
   "file_extension": ".py",
   "mimetype": "text/x-python",
   "name": "python",
   "nbconvert_exporter": "python",
   "pygments_lexer": "ipython3",
   "version": "3.13.1"
  }
 },
 "nbformat": 4,
 "nbformat_minor": 2
}
