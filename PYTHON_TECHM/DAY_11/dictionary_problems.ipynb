{
 "cells": [
  {
   "cell_type": "markdown",
   "id": "030ffd1a",
   "metadata": {},
   "source": [
    "#### Q1. Nested Aggregation"
   ]
  },
  {
   "cell_type": "code",
   "execution_count": null,
   "id": "6b0a60eb",
   "metadata": {},
   "outputs": [],
   "source": [
    "\n",
    "def nested_aggregation(data):\n",
    "    result = {}\n",
    "    for dept, emp, sal in data:\n",
    "        result.setdefault(dept, []).append((emp, sal))\n",
    "    for dept in result:\n",
    "        result[dept].sort(key=lambda x: x[1], reverse=True)\n",
    "    return result\n",
    "\n",
    "data = [\n",
    "    ('HR', 'Alice', 50000),\n",
    "    ('HR', 'Bob', 60000),\n",
    "    ('Tech', 'Charlie', 120000),\n",
    "    ('Tech', 'Dave', 110000),\n",
    "    ('Tech', 'Eve', 115000)\n",
    "]\n",
    "\n",
    "nested_aggregation(data)\n",
    "    "
   ]
  },
  {
   "cell_type": "markdown",
   "id": "3770908f",
   "metadata": {},
   "source": [
    "#### Q2. Inverted Index"
   ]
  },
  {
   "cell_type": "code",
   "execution_count": null,
   "id": "e79fcebd",
   "metadata": {},
   "outputs": [],
   "source": [
    "\n",
    "def inverted_index(sentences):\n",
    "    index = {}\n",
    "    for i, sentence in enumerate(sentences):\n",
    "        for word in sentence.split():\n",
    "            index.setdefault(word, []).append(i)\n",
    "    return index\n",
    "\n",
    "sentences = [\"the quick brown fox\", \"jumps over the lazy dog\", \"the dog barked\"]\n",
    "inverted_index(sentences)\n",
    "    "
   ]
  },
  {
   "cell_type": "markdown",
   "id": "4199b61a",
   "metadata": {},
   "source": [
    "#### Q3. Deep Copy Trap"
   ]
  },
  {
   "cell_type": "code",
   "execution_count": null,
   "id": "d8b2e9ca",
   "metadata": {},
   "outputs": [],
   "source": [
    "\n",
    "import copy\n",
    "\n",
    "original = {'a': [1, 2, 3]}\n",
    "shallow = original.copy()\n",
    "deep = copy.deepcopy(original)\n",
    "\n",
    "shallow['a'].append(4)\n",
    "print(\"Shallow Copy:\", shallow, original)\n",
    "\n",
    "original = {'a': [1, 2, 3]}\n",
    "deep = copy.deepcopy(original)\n",
    "deep['a'].append(4)\n",
    "print(\"Deep Copy:\", deep, original)\n",
    "    "
   ]
  },
  {
   "cell_type": "markdown",
   "id": "96020534",
   "metadata": {},
   "source": [
    "#### Q4. Accumulate Word Lengths"
   ]
  },
  {
   "cell_type": "code",
   "execution_count": null,
   "id": "5de9ab6a",
   "metadata": {},
   "outputs": [],
   "source": [
    "\n",
    "def accumulate_word_lengths(words):\n",
    "    result = {}\n",
    "    for word in words:\n",
    "        result.setdefault(len(word), []).append(word)\n",
    "    return result\n",
    "\n",
    "words = [\"hi\", \"hello\", \"hey\", \"bye\", \"thanks\", \"ok\"]\n",
    "accumulate_word_lengths(words)\n",
    "    "
   ]
  },
  {
   "cell_type": "markdown",
   "id": "5545866f",
   "metadata": {},
   "source": [
    "#### Q5. Dictionary Merge with Conflict Resolution"
   ]
  },
  {
   "cell_type": "code",
   "execution_count": null,
   "id": "c8e511ff",
   "metadata": {},
   "outputs": [],
   "source": [
    "\n",
    "def merge_dicts(d1, d2):\n",
    "    result = d1.copy()\n",
    "    for key, value in d2.items():\n",
    "        if key in result:\n",
    "            result[key] = max(result[key], value)\n",
    "        else:\n",
    "            result[key] = value\n",
    "    return result\n",
    "\n",
    "d1 = {'a': 5, 'b': 10}\n",
    "d2 = {'b': 7, 'c': 3}\n",
    "merge_dicts(d1, d2)\n",
    "    "
   ]
  }
 ],
 "metadata": {},
 "nbformat": 4,
 "nbformat_minor": 5
}
