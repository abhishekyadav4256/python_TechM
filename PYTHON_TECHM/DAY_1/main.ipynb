{
 "cells": [
  {
   "cell_type": "markdown",
   "id": "8112d566",
   "metadata": {},
   "source": [
    "# Python Basics - Jupyter Notebook"
   ]
  },
  {
   "cell_type": "code",
   "execution_count": 1,
   "id": "862688ff",
   "metadata": {},
   "outputs": [
    {
     "data": {
      "text/plain": [
       "[int, float, str, bool, list, tuple, dict, set]"
      ]
     },
     "execution_count": 1,
     "metadata": {},
     "output_type": "execute_result"
    }
   ],
   "source": [
    "\n",
    "# Assigning values to different variables\n",
    "x = 42\n",
    "y = 3.14\n",
    "z = \"Hello\"\n",
    "a = True\n",
    "b = [1, 2, 3]\n",
    "c = (4, 5, 6)\n",
    "d = {\"name\": \"Alice\", \"age\": 25}\n",
    "e = {10, 20, 30}\n",
    "\n",
    "# Printing the type of each variable\n",
    "types = [type(x), type(y), type(z), type(a), type(b), type(c), type(d), type(e)]\n",
    "types\n"
   ]
  },
  {
   "cell_type": "code",
   "execution_count": 2,
   "id": "99e935d5",
   "metadata": {},
   "outputs": [
    {
     "data": {
      "text/plain": [
       "(15, 5, 50, 2.0)"
      ]
     },
     "execution_count": 2,
     "metadata": {},
     "output_type": "execute_result"
    }
   ],
   "source": [
    "\n",
    "# Simple Arithmetic Operations\n",
    "a = 10\n",
    "b = 5\n",
    "\n",
    "addition = a + b\n",
    "subtraction = a - b\n",
    "multiplication = a * b\n",
    "division = a / b\n",
    "\n",
    "addition, subtraction, multiplication, division\n"
   ]
  },
  {
   "cell_type": "code",
   "execution_count": 3,
   "id": "d1a1ae18",
   "metadata": {},
   "outputs": [
    {
     "data": {
      "text/plain": [
       "{'Greater': True,\n",
       " 'Smaller': False,\n",
       " 'Equal': False,\n",
       " 'Not Equal': True,\n",
       " 'Greater or Equal': True,\n",
       " 'Smaller or Equal': False}"
      ]
     },
     "execution_count": 3,
     "metadata": {},
     "output_type": "execute_result"
    }
   ],
   "source": [
    "\n",
    "# Simple Comparison Operations\n",
    "comparison_results = {\n",
    "    \"Greater\": a > b,\n",
    "    \"Smaller\": a < b,\n",
    "    \"Equal\": a == b,\n",
    "    \"Not Equal\": a != b,\n",
    "    \"Greater or Equal\": a >= b,\n",
    "    \"Smaller or Equal\": a <= b\n",
    "}\n",
    "\n",
    "comparison_results\n"
   ]
  },
  {
   "cell_type": "code",
   "execution_count": 4,
   "id": "e2aed634",
   "metadata": {},
   "outputs": [
    {
     "data": {
      "text/plain": [
       "{'AND': False, 'OR': True, 'NOT x': False, 'NOT y': True}"
      ]
     },
     "execution_count": 4,
     "metadata": {},
     "output_type": "execute_result"
    }
   ],
   "source": [
    "\n",
    "# Simple Logical Operations\n",
    "x = True\n",
    "y = False\n",
    "\n",
    "logical_results = {\n",
    "    \"AND\": x and y,\n",
    "    \"OR\": x or y,\n",
    "    \"NOT x\": not x,\n",
    "    \"NOT y\": not y\n",
    "}\n",
    "\n",
    "logical_results\n"
   ]
  },
  {
   "cell_type": "code",
   "execution_count": 5,
   "id": "f4dd1a77",
   "metadata": {},
   "outputs": [
    {
     "data": {
      "text/plain": [
       "7"
      ]
     },
     "execution_count": 5,
     "metadata": {},
     "output_type": "execute_result"
    }
   ],
   "source": [
    "\n",
    "# Simple Built-in Function Usage\n",
    "numbers = [5, 3, 8, 1]\n",
    "\n",
    "max_min_difference = max(numbers) - min(numbers)\n",
    "max_min_difference\n"
   ]
  },
  {
   "cell_type": "code",
   "execution_count": 6,
   "id": "416aab7e",
   "metadata": {},
   "outputs": [
    {
     "name": "stdout",
     "output_type": "stream",
     "text": [
      "Hello, World!\n"
     ]
    }
   ],
   "source": [
    "\n",
    "# Assign Function to Variable\n",
    "greet = print\n",
    "greet(\"Hello, World!\")\n"
   ]
  },
  {
   "cell_type": "code",
   "execution_count": 7,
   "id": "68352d88",
   "metadata": {},
   "outputs": [
    {
     "data": {
      "text/plain": [
       "(int, str, float)"
      ]
     },
     "execution_count": 7,
     "metadata": {},
     "output_type": "execute_result"
    }
   ],
   "source": [
    "\n",
    "# Different Variable Types\n",
    "a = 10\n",
    "b = \"Python\"\n",
    "c = 3.14\n",
    "\n",
    "type(a), type(b), type(c)\n"
   ]
  },
  {
   "cell_type": "code",
   "execution_count": 8,
   "id": "022b9ff3",
   "metadata": {},
   "outputs": [
    {
     "data": {
      "text/plain": [
       "(123, int)"
      ]
     },
     "execution_count": 8,
     "metadata": {},
     "output_type": "execute_result"
    }
   ],
   "source": [
    "\n",
    "# Type Conversion\n",
    "num = \"123\"\n",
    "converted_num = int(num)\n",
    "\n",
    "converted_num, type(converted_num)\n"
   ]
  },
  {
   "cell_type": "code",
   "execution_count": 9,
   "id": "f6d688ad",
   "metadata": {},
   "outputs": [
    {
     "data": {
      "text/plain": [
       "(5, 'Hello', 3.14)"
      ]
     },
     "execution_count": 9,
     "metadata": {},
     "output_type": "execute_result"
    }
   ],
   "source": [
    "\n",
    "# Variable Assignment and Reassignment\n",
    "x = 5\n",
    "initial_x = x\n",
    "\n",
    "x = \"Hello\"\n",
    "reassigned_x = x\n",
    "\n",
    "x = 3.14\n",
    "reassigned_x_again = x\n",
    "\n",
    "initial_x, reassigned_x, reassigned_x_again\n"
   ]
  },
  {
   "cell_type": "code",
   "execution_count": 10,
   "id": "8e9baa95",
   "metadata": {},
   "outputs": [
    {
     "data": {
      "text/plain": [
       "8.0"
      ]
     },
     "execution_count": 10,
     "metadata": {},
     "output_type": "execute_result"
    }
   ],
   "source": [
    "\n",
    "# Order of Operations\n",
    "result = 2 + 3 * 4 ** 2 / 8\n",
    "result\n"
   ]
  },
  {
   "cell_type": "code",
   "execution_count": 11,
   "id": "bd7cb66f",
   "metadata": {},
   "outputs": [
    {
     "data": {
      "text/plain": [
       "(10, 20, 110, 105)"
      ]
     },
     "execution_count": 11,
     "metadata": {},
     "output_type": "execute_result"
    }
   ],
   "source": [
    "\n",
    "# Reassignment\n",
    "count = 10\n",
    "initial_count = count\n",
    "\n",
    "count = 20\n",
    "updated_count = count\n",
    "\n",
    "score = 100\n",
    "score += 10\n",
    "score_after_addition = score\n",
    "\n",
    "score -= 5\n",
    "score_after_subtraction = score\n",
    "\n",
    "initial_count, updated_count, score_after_addition, score_after_subtraction\n"
   ]
  }
 ],
 "metadata": {
  "kernelspec": {
   "display_name": "base",
   "language": "python",
   "name": "python3"
  },
  "language_info": {
   "codemirror_mode": {
    "name": "ipython",
    "version": 3
   },
   "file_extension": ".py",
   "mimetype": "text/x-python",
   "name": "python",
   "nbconvert_exporter": "python",
   "pygments_lexer": "ipython3",
   "version": "3.11.4"
  }
 },
 "nbformat": 4,
 "nbformat_minor": 5
}
