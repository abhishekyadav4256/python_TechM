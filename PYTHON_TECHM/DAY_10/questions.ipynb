{
 "cells": [
  {
   "cell_type": "code",
   "execution_count": null,
   "id": "8e58a0e6",
   "metadata": {},
   "outputs": [],
   "source": [
    "def read_file(filename):\n",
    "    try:\n",
    "        file = open(filename, 'r')\n",
    "        for line in file:\n",
    "            print(line.strip())\n",
    "        file.close()\n",
    "    except FileNotFoundError:\n",
    "        print(f\"{filename} not found.\")\n",
    "\n",
    "read_file('notes.txt')\n"
   ]
  },
  {
   "cell_type": "code",
   "execution_count": null,
   "id": "3737e06f",
   "metadata": {},
   "outputs": [],
   "source": [
    "def count_lines(filename):\n",
    "    try:\n",
    "        file = open(filename, 'r')\n",
    "        lines = file.readlines()\n",
    "        print(\"Total lines:\", len(lines))\n",
    "        file.close()\n",
    "    except FileNotFoundError:\n",
    "        print(f\"{filename} not found.\")\n",
    "\n",
    "count_lines('poem.txt')\n"
   ]
  },
  {
   "cell_type": "code",
   "execution_count": null,
   "id": "8a0c9a00",
   "metadata": {},
   "outputs": [],
   "source": [
    "def write_tasks(filename):\n",
    "    tasks = [\n",
    "        \"Buy groceries\",\n",
    "        \"Complete Python assignment\",\n",
    "        \"Call John\",\n",
    "        \"Schedule doctor appointment\",\n",
    "        \"Read 20 pages of a book\"\n",
    "    ]\n",
    "    with open(filename, 'w') as file:\n",
    "        for task in tasks:\n",
    "            file.write(task + '\\n')\n",
    "\n",
    "write_tasks('reminder.txt')\n",
    "\n"
   ]
  },
  {
   "cell_type": "code",
   "execution_count": null,
   "id": "2cffd78f",
   "metadata": {},
   "outputs": [],
   "source": [
    "def add_task(filename, task):\n",
    "    with open(filename, 'a') as file:\n",
    "        file.write(task + '\\n')\n",
    "\n",
    "add_task('reminder.txt', 'Practice coding for 30 minutes')\n"
   ]
  },
  {
   "cell_type": "code",
   "execution_count": null,
   "id": "9183f905",
   "metadata": {},
   "outputs": [],
   "source": [
    "import os\n",
    "\n",
    "def check_file(filename):\n",
    "    if os.path.exists(filename):\n",
    "        print(f\"{filename} is available.\")\n",
    "    else:\n",
    "        print(f\"{filename} does not exist.\")\n",
    "\n",
    "check_file('data.txt')\n"
   ]
  },
  {
   "cell_type": "code",
   "execution_count": null,
   "id": "e3391a67",
   "metadata": {},
   "outputs": [],
   "source": [
    "def remove_blank_lines(source, destination):\n",
    "    with open(source, 'r') as infile, open(destination, 'w') as outfile:\n",
    "        for line in infile:\n",
    "            if line.strip():\n",
    "                outfile.write(line)\n",
    "\n",
    "remove_blank_lines('input.txt', 'cleaned.txt')\n"
   ]
  },
  {
   "cell_type": "code",
   "execution_count": null,
   "id": "3e079999",
   "metadata": {},
   "outputs": [],
   "source": [
    "def find_and_replace(filename, old_word, new_word):\n",
    "    with open(filename, 'r') as file:\n",
    "        content = file.read()\n",
    "\n",
    "    content = content.replace(old_word, new_word)\n",
    "\n",
    "    with open(filename, 'w') as file:\n",
    "        file.write(content)\n",
    "\n",
    "find_and_replace('article.txt', 'Python', 'PYTHON')\n"
   ]
  },
  {
   "cell_type": "code",
   "execution_count": null,
   "id": "35b91a19",
   "metadata": {},
   "outputs": [],
   "source": [
    "def write_uppercase(input_file, output_file):\n",
    "    with open(input_file, 'r') as infile:\n",
    "        content = infile.read()\n",
    "\n",
    "    with open(output_file, 'w') as outfile:\n",
    "        outfile.write(content.upper())\n",
    "\n",
    "write_uppercase('input.txt', 'output.txt')\n"
   ]
  },
  {
   "cell_type": "code",
   "execution_count": null,
   "id": "2d7908bb",
   "metadata": {},
   "outputs": [],
   "source": [
    "def generate_report(input_file, output_file):\n",
    "    with open(input_file, 'r') as infile:\n",
    "        lines = infile.readlines()\n",
    "\n",
    "    with open(output_file, 'w') as outfile:\n",
    "        for line in lines:\n",
    "            name, marks = line.split(',')\n",
    "            marks = int(marks.strip())\n",
    "            status = \"Pass\" if marks >= 50 else \"Fail\"\n",
    "            outfile.write(f\"{name.strip()}: {status}\\n\")\n",
    "\n",
    "generate_report('students.txt', 'report.txt')\n"
   ]
  },
  {
   "cell_type": "code",
   "execution_count": null,
   "id": "c7fa4979",
   "metadata": {},
   "outputs": [],
   "source": [
    "def reverse_lines(input_file, output_file):\n",
    "    with open(input_file, 'r') as infile:\n",
    "        lines = infile.readlines()\n",
    "\n",
    "    with open(output_file, 'w') as outfile:\n",
    "        for line in reversed(lines):\n",
    "            outfile.write(line)\n",
    "\n",
    "reverse_lines('quotes.txt', 'reversed_quotes.txt')\n"
   ]
  },
  {
   "cell_type": "code",
   "execution_count": null,
   "id": "67808640",
   "metadata": {},
   "outputs": [],
   "source": [
    "# Log File Analyzer\n",
    "with open(\"server.log\", \"r\") as f:\n",
    "    lines = f.readlines()\n",
    "error_lines = [line for line in lines if \"ERROR\" in line]\n",
    "with open(\"errors_only.log\", \"w\") as f:\n",
    "    f.writelines(error_lines)\n",
    "print(\"ERROR count:\", len(error_lines))"
   ]
  },
  {
   "cell_type": "code",
   "execution_count": null,
   "id": "f47fd42c",
   "metadata": {},
   "outputs": [],
   "source": [
    "# Log File Analyzer\n",
    "with open(\"server.log\", \"r\") as f:\n",
    "    lines = f.readlines()\n",
    "error_lines = [line for line in lines if \"ERROR\" in line]\n",
    "with open(\"errors_only.log\", \"w\") as f:\n",
    "    f.writelines(error_lines)\n",
    "print(\"ERROR count:\", len(error_lines))"
   ]
  },
  {
   "cell_type": "code",
   "execution_count": null,
   "id": "5ac61f82",
   "metadata": {},
   "outputs": [],
   "source": [
    "# CSV Reader + Filter\n",
    "import csv\n",
    "with open(\"sales.csv\", newline='') as f:\n",
    "    reader = list(csv.reader(f))\n",
    "    header, data = reader[0], reader[1:]\n",
    "high_sales = [row for row in data if float(row[2]) > 10000]\n",
    "with open(\"high_sales.csv\", \"w\", newline='') as f:\n",
    "    writer = csv.writer(f)\n",
    "    writer.writerow(header)\n",
    "    writer.writerows(high_sales)"
   ]
  },
  {
   "cell_type": "code",
   "execution_count": null,
   "id": "47e9654c",
   "metadata": {},
   "outputs": [],
   "source": [
    "# Merge Multiple Files\n",
    "with open(\"full_book.txt\", \"w\") as out:\n",
    "    for chapter in [\"chapter1.txt\", \"chapter2.txt\", \"chapter3.txt\"]:\n",
    "        with open(chapter, \"r\") as f:\n",
    "            out.write(f.read() + \"\\n\")"
   ]
  },
  {
   "cell_type": "code",
   "execution_count": null,
   "id": "c9ce9b6d",
   "metadata": {},
   "outputs": [],
   "source": [
    "# Directory File Scanner\n",
    "import os\n",
    "folder = \".\"\n",
    "files = os.listdir(folder)\n",
    "txt_csv_files = [f for f in files if f.endswith(\".txt\") or f.endswith(\".csv\")]\n",
    "print(txt_csv_files)"
   ]
  },
  {
   "cell_type": "code",
   "execution_count": null,
   "id": "7ae97d88",
   "metadata": {},
   "outputs": [],
   "source": [
    "\n",
    "# Auto Backup System\n",
    "import shutil\n",
    "from datetime import datetime\n",
    "date = datetime.now().strftime(\"%Y-%m-%d\")\n",
    "shutil.copy(\"data.csv\", f\"backup/data_backup_{date}.csv\")"
   ]
  },
  {
   "cell_type": "code",
   "execution_count": null,
   "id": "f7eea1c0",
   "metadata": {},
   "outputs": [],
   "source": [
    "# Text Formatter\n",
    "with open(\"raw_text.txt\", \"r\") as f:\n",
    "    lines = f.readlines()\n",
    "formatted = [line.strip().replace(\"\\t\", \"    \") + \"\\n\" for line in lines]\n",
    "with open(\"raw_text.txt\", \"w\") as f:\n",
    "    f.writelines(formatted)\n"
   ]
  },
  {
   "cell_type": "code",
   "execution_count": null,
   "id": "1b2ac334",
   "metadata": {},
   "outputs": [],
   "source": [
    "# Chat History Logger\n",
    "from datetime import datetime\n",
    "with open(\"chat_log.txt\", \"a\") as f:\n",
    "    while True:\n",
    "        msg = input(\"You: \")\n",
    "        if msg.lower() == \"exit\":\n",
    "            break\n",
    "        timestamp = datetime.now().strftime(\"%Y-%m-%d %H:%M:%S\")\n",
    "        f.write(f\"[{timestamp}] {msg}\\n\")\n"
   ]
  },
  {
   "cell_type": "code",
   "execution_count": null,
   "id": "7d8e1ba3",
   "metadata": {},
   "outputs": [],
   "source": [
    "# Custom CSV Sorter\n",
    "with open(\"products.csv\", newline='') as f:\n",
    "    reader = list(csv.reader(f))\n",
    "    header, data = reader[0], reader[1:]\n",
    "sorted_data = sorted(data, key=lambda x: float(x[2]))\n",
    "with open(\"products_sorted.csv\", \"w\", newline='') as f:\n",
    "    writer = csv.writer(f)\n",
    "    writer.writerow(header)\n",
    "    writer.writerows(sorted_data) "
   ]
  },
  {
   "cell_type": "code",
   "execution_count": null,
   "id": "2f4ebb9a",
   "metadata": {},
   "outputs": [],
   "source": [
    "# JSON Converter\n",
    "import json\n",
    "with open(\"students.txt\", \"r\") as f:\n",
    "    lines = f.readlines()\n",
    "keys = [\"name\", \"age\", \"grade\"]\n",
    "students = [dict(zip(keys, line.strip().split(\",\"))) for line in lines]\n",
    "with open(\"students.json\", \"w\") as f:\n",
    "    json.dump(students, f, indent=4)"
   ]
  }
 ],
 "metadata": {
  "kernelspec": {
   "display_name": "Python 3",
   "language": "python",
   "name": "python3"
  },
  "language_info": {
   "name": "python",
   "version": "3.13.1"
  }
 },
 "nbformat": 4,
 "nbformat_minor": 5
}
