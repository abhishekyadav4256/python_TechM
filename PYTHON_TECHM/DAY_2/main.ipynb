{
 "cells": [
  {
   "cell_type": "markdown",
   "id": "6459a2ac",
   "metadata": {},
   "source": [
    "# Advanced Debugging Assignment\n",
    "\n",
    "This notebook contains debugging examples, error explanations, and fixes."
   ]
  },
  {
   "cell_type": "markdown",
   "id": "633bccfa",
   "metadata": {},
   "source": [
    "## 1. Syntax Error\n",
    "**Issue:** Missing colon in the `for` loop.\n",
    "\n",
    "**Fix:** Added a colon after `for i in range(5):`"
   ]
  },
  {
   "cell_type": "code",
   "execution_count": null,
   "id": "19c16073",
   "metadata": {},
   "outputs": [],
   "source": [
    "for i in range(5):\n",
    "    print(i)"
   ]
  },
  {
   "cell_type": "markdown",
   "id": "31805286",
   "metadata": {},
   "source": [
    "## 2. Runtime Error\n",
    "**Issue:** Division by zero error.\n",
    "\n",
    "**Fix:** Wrapped division operation in a `try-except` block."
   ]
  },
  {
   "cell_type": "code",
   "execution_count": null,
   "id": "c144cf36",
   "metadata": {},
   "outputs": [],
   "source": [
    "try:\n",
    "    x = 10 / 0\n",
    "except ZeroDivisionError:\n",
    "    print('Cannot divide by zero!')"
   ]
  },
  {
   "cell_type": "markdown",
   "id": "f873a042",
   "metadata": {},
   "source": [
    "## 3. Logic Error\n",
    "**Issue:** Incorrect formula for calculating area.\n",
    "\n",
    "**Fix:** Used the correct formula `π * r^2`."
   ]
  },
  {
   "cell_type": "code",
   "execution_count": null,
   "id": "0322f9cb",
   "metadata": {},
   "outputs": [],
   "source": [
    "def fix_logic_error(radius):\n",
    "    return 3.14 * radius ** 2\n",
    "\n",
    "print(fix_logic_error(5))"
   ]
  },
  {
   "cell_type": "markdown",
   "id": "33ac953a",
   "metadata": {},
   "source": [
    "## 4. Debugging Complex Functions\n",
    "**Issue:** Function fails due to non-integer values.\n",
    "\n",
    "**Fix:** Used a `try-except` block to skip invalid inputs."
   ]
  },
  {
   "cell_type": "code",
   "execution_count": null,
   "id": "1a2df19a",
   "metadata": {},
   "outputs": [],
   "source": [
    "def debug_process_data(data):\n",
    "    total = 0\n",
    "    count = 0\n",
    "    for item in data:\n",
    "        try:\n",
    "            total += int(item)\n",
    "            count += 1\n",
    "        except ValueError:\n",
    "            print(f'Skipping invalid item: {item}')\n",
    "    return total / count if count else 0\n",
    "\n",
    "print(debug_process_data(['10', '20', 'abc', '30']))"
   ]
  },
  {
   "cell_type": "markdown",
   "id": "1b25a990",
   "metadata": {},
   "source": [
    "## 5. Unreliable Function\n",
    "**Issue:** Randomly selects zero, causing a division error.\n",
    "\n",
    "**Fix:** Added exception handling for division by zero."
   ]
  },
  {
   "cell_type": "code",
   "execution_count": null,
   "id": "15fe4083",
   "metadata": {},
   "outputs": [],
   "source": [
    "import random\n",
    "\n",
    "def debug_unreliable_function():\n",
    "    try:\n",
    "        number = random.choice([0, 1, 2])\n",
    "        return 10 / number\n",
    "    except ZeroDivisionError:\n",
    "        return 'Avoided division by zero'\n",
    "\n",
    "for _ in range(5):\n",
    "    print(debug_unreliable_function())"
   ]
  },
  {
   "cell_type": "markdown",
   "id": "8279f50f",
   "metadata": {},
   "source": [
    "## 6. Race Condition\n",
    "**Issue:** Threads modify the shared variable concurrently, causing incorrect results.\n",
    "\n",
    "**Fix:** Used a threading lock to prevent race conditions."
   ]
  },
  {
   "cell_type": "code",
   "execution_count": null,
   "id": "a5898dc6",
   "metadata": {},
   "outputs": [],
   "source": [
    "import threading\n",
    "\n",
    "def fix_race_condition():\n",
    "    counter = 0\n",
    "    lock = threading.Lock()\n",
    "    \n",
    "    def increment():\n",
    "        nonlocal counter\n",
    "        for _ in range(100000):\n",
    "            with lock:\n",
    "                counter += 1\n",
    "    \n",
    "    threads = [threading.Thread(target=increment) for _ in range(2)]\n",
    "    for t in threads:\n",
    "        t.start()\n",
    "    for t in threads:\n",
    "        t.join()\n",
    "    \n",
    "    print('Counter:', counter)\n",
    "\n",
    "fix_race_condition()"
   ]
  },
  {
   "cell_type": "markdown",
   "id": "ac2df6e5",
   "metadata": {},
   "source": [
    "## 7. Memory Optimization\n",
    "**Issue:** Inefficient list creation leading to excessive memory usage.\n",
    "\n",
    "**Fix:** Used list comprehension for better memory efficiency."
   ]
  },
  {
   "cell_type": "code",
   "execution_count": null,
   "id": "09f5de26",
   "metadata": {},
   "outputs": [],
   "source": [
    "def optimize_memory():\n",
    "    return [i * 2 for i in range(100000)]\n",
    "\n",
    "print(len(optimize_memory()))"
   ]
  }
 ],
 "metadata": {},
 "nbformat": 4,
 "nbformat_minor": 5
}
